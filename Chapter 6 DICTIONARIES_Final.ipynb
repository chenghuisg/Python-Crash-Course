{
 "cells": [
  {
   "cell_type": "markdown",
   "metadata": {},
   "source": [
    "**6 DICTIONARIES"
   ]
  },
  {
   "cell_type": "markdown",
   "metadata": {},
   "source": [
    "**A Simple Dictionary - key-value pairs"
   ]
  },
  {
   "cell_type": "code",
   "execution_count": 1,
   "metadata": {},
   "outputs": [
    {
     "name": "stdout",
     "output_type": "stream",
     "text": [
      "green\n",
      "5\n"
     ]
    }
   ],
   "source": [
    "alien_0 = {'color': 'green', 'points': 5}\n",
    "print(alien_0['color'])\n",
    "print(alien_0['points'])"
   ]
  },
  {
   "cell_type": "markdown",
   "metadata": {},
   "source": [
    "**Accessing Values in a Dictionary"
   ]
  },
  {
   "cell_type": "code",
   "execution_count": 2,
   "metadata": {},
   "outputs": [
    {
     "name": "stdout",
     "output_type": "stream",
     "text": [
      "green\n"
     ]
    }
   ],
   "source": [
    "alien_0 = {'color': 'green'}\n",
    "print(alien_0['color'])"
   ]
  },
  {
   "cell_type": "code",
   "execution_count": 3,
   "metadata": {},
   "outputs": [
    {
     "name": "stdout",
     "output_type": "stream",
     "text": [
      "You just earned 5 points!\n"
     ]
    }
   ],
   "source": [
    "alien_0 = {'color': 'green', 'points': 5}\n",
    "\n",
    "new_points = alien_0['points']\n",
    "print(f\"You just earned {new_points} points!\")"
   ]
  },
  {
   "cell_type": "markdown",
   "metadata": {},
   "source": [
    "**Adding New Key-Value Pairs"
   ]
  },
  {
   "cell_type": "code",
   "execution_count": 5,
   "metadata": {},
   "outputs": [
    {
     "name": "stdout",
     "output_type": "stream",
     "text": [
      "{'color': 'green', 'points': 5}\n",
      "{'color': 'green', 'points': 5, 'x_position': 0, 'y_position': 25}\n"
     ]
    }
   ],
   "source": [
    "alien_0 = {'color': 'green', 'points': 5}\n",
    "print(alien_0)\n",
    "\n",
    "alien_0['x_position'] = 0\n",
    "alien_0['y_position'] = 25\n",
    "print(alien_0)"
   ]
  },
  {
   "cell_type": "markdown",
   "metadata": {},
   "source": [
    "**Starting with an Empty Dictionary"
   ]
  },
  {
   "cell_type": "code",
   "execution_count": 6,
   "metadata": {},
   "outputs": [
    {
     "name": "stdout",
     "output_type": "stream",
     "text": [
      "{'color': 'green', 'points': 5}\n"
     ]
    }
   ],
   "source": [
    "alien_0 = {}\n",
    "alien_0['color'] = 'green'\n",
    "alien_0['points'] = 5\n",
    "print(alien_0)"
   ]
  },
  {
   "cell_type": "markdown",
   "metadata": {},
   "source": [
    "**Modifying Values in a Dictionary"
   ]
  },
  {
   "cell_type": "code",
   "execution_count": 7,
   "metadata": {},
   "outputs": [
    {
     "name": "stdout",
     "output_type": "stream",
     "text": [
      "The alien is green.\n",
      "The alien is now yellow.\n"
     ]
    }
   ],
   "source": [
    "alien_0 = {'color': 'green'}\n",
    "print(f\"The alien is {alien_0['color']}.\")\n",
    "      \n",
    "alien_0['color'] = 'yellow'\n",
    "print(f\"The alien is now {alien_0['color']}.\")"
   ]
  },
  {
   "cell_type": "code",
   "execution_count": 8,
   "metadata": {},
   "outputs": [
    {
     "name": "stdout",
     "output_type": "stream",
     "text": [
      "Original position: 0\n",
      "New position: 2\n"
     ]
    }
   ],
   "source": [
    "alien_0 = {'x_position': 0, 'y_position': 25, 'speed': 'medium'}\n",
    "print(f\"Original position: {alien_0['x_position']}\")\n",
    "\n",
    "# Move the alien to the right.\n",
    "# Determine how far to move the alien based on its current speed.\n",
    "if alien_0['speed'] == 'slow':\n",
    "    x_increment = 1\n",
    "elif alien_0['speed'] == 'medium':\n",
    "    x_increment = 2\n",
    "else:\n",
    "# This must be a fast alien.\n",
    "    x_increment = 3\n",
    "      \n",
    "# The new position is the old position plus the increment.\n",
    "alien_0['x_position'] = alien_0['x_position'] + x_increment\n",
    "print(f\"New position: {alien_0['x_position']}\")"
   ]
  },
  {
   "cell_type": "markdown",
   "metadata": {},
   "source": [
    "**Removing Key-Value Pairs"
   ]
  },
  {
   "cell_type": "code",
   "execution_count": 9,
   "metadata": {},
   "outputs": [
    {
     "name": "stdout",
     "output_type": "stream",
     "text": [
      "{'color': 'green', 'points': 5}\n",
      "{'color': 'green'}\n"
     ]
    }
   ],
   "source": [
    "alien_0 = {'color': 'green', 'points': 5}\n",
    "print(alien_0)\n",
    "\n",
    "del alien_0['points']\n",
    "print(alien_0)"
   ]
  },
  {
   "cell_type": "markdown",
   "metadata": {},
   "source": [
    "**A Dictionary of Similar Objects"
   ]
  },
  {
   "cell_type": "code",
   "execution_count": 11,
   "metadata": {},
   "outputs": [
    {
     "name": "stdout",
     "output_type": "stream",
     "text": [
      "Sarah's favorite language is C.\n"
     ]
    }
   ],
   "source": [
    "favorite_languages = {\n",
    "'jen': 'python',\n",
    "'sarah': 'c',\n",
    "'edward': 'ruby',\n",
    "'phil': 'python',\n",
    "}\n",
    "\n",
    "language = favorite_languages['sarah']\n",
    "print(f\"Sarah's favorite language is {language.title()}.\")"
   ]
  },
  {
   "cell_type": "code",
   "execution_count": 12,
   "metadata": {},
   "outputs": [
    {
     "data": {
      "text/plain": [
       "'c'"
      ]
     },
     "execution_count": 12,
     "metadata": {},
     "output_type": "execute_result"
    }
   ],
   "source": [
    "favorite_languages['sarah']"
   ]
  },
  {
   "cell_type": "markdown",
   "metadata": {},
   "source": [
    "**TRY IT YOURSELF"
   ]
  },
  {
   "cell_type": "markdown",
   "metadata": {},
   "source": [
    "**6-1. Person: Use a dictionary to store information about a person you know. Store their\n",
    "first name, last name, age, and the city in which they live. You should have keys such as\n",
    "first_name, last_name, age, and city. Print each piece of information stored in your\n",
    "dictionary."
   ]
  },
  {
   "cell_type": "code",
   "execution_count": 19,
   "metadata": {},
   "outputs": [
    {
     "name": "stdout",
     "output_type": "stream",
     "text": [
      "{'first_name': 'loo', 'last_name': 'ch', 'age': '25', 'city': 'sg'}\n",
      "loo\n",
      "ch\n",
      "25\n",
      "sg\n"
     ]
    }
   ],
   "source": [
    "person = {'first_name':'loo', 'last_name':'ch', 'age':'25', 'city':'sg'}\n",
    "print(person)\n",
    "\n",
    "print(person['first_name'])\n",
    "print(person['last_name'])\n",
    "print(person['age'])\n",
    "print(person['city'])"
   ]
  },
  {
   "cell_type": "markdown",
   "metadata": {},
   "source": [
    "**6-2. Favorite Numbers: Use a dictionary to store people’s favorite numbers. Think of\n",
    "five names, and use them as keys in your dictionary. Think of a favorite number for each\n",
    "person, and store each as a value in your dictionary. Print each person’s name and their\n",
    "favorite number. For even more fun, poll a few friends and get some actual data for your\n",
    "program."
   ]
  },
  {
   "cell_type": "code",
   "execution_count": 21,
   "metadata": {},
   "outputs": [
    {
     "name": "stdout",
     "output_type": "stream",
     "text": [
      "{'a': '1', 'b': '2', 'c': '3', 'd': '4', 'e': '5'}\n",
      "A's favorite number is 1.\n",
      "B's favorite number is 2.\n",
      "C's favorite number is 3.\n",
      "D's favorite number is 4.\n",
      "E's favorite number is 5.\n"
     ]
    }
   ],
   "source": [
    "num = {'a':'1', 'b':'2', 'c':'3', 'd':'4',  'e':'5'}\n",
    "print(num)\n",
    "\n",
    "number = num['a']\n",
    "print(\"A's favorite number is \" + str(number) + \".\")\n",
    "\n",
    "number = num['b']\n",
    "print(\"B's favorite number is \" + str(number) + \".\")\n",
    "\n",
    "number = num['c']\n",
    "print(\"C's favorite number is \" + str(number) + \".\")\n",
    "\n",
    "number = num['d']\n",
    "print(\"D's favorite number is \" + str(number) + \".\")\n",
    "\n",
    "number = num['e']\n",
    "print(\"E's favorite number is \" + str(number) + \".\")"
   ]
  },
  {
   "cell_type": "markdown",
   "metadata": {},
   "source": [
    "**6-3. Glossary: A Python dictionary can be used to model an actual dictionary. However,\n",
    "to avoid confusion, let’s call it a glossary.\n",
    "Think of five programming words you’ve learned about in the\n",
    "previous chapters. Use these words as the keys in your\n",
    "glossary, and store their meanings as values.\n",
    "Print each word and its meaning as neatly formatted output.\n",
    "You might print the word followed by a colon and then its\n",
    "meaning, or print the word on one line and then print its\n",
    "meaning indented on a second line. Use the newline character\n",
    "(\\n) to insert a blank line between each word-meaning pair in\n",
    "your output."
   ]
  },
  {
   "cell_type": "code",
   "execution_count": 22,
   "metadata": {},
   "outputs": [
    {
     "name": "stdout",
     "output_type": "stream",
     "text": [
      "\n",
      "String: A series of characters.\n",
      "\n",
      "Comment: A note in a program that the Python interpreter ignores.\n",
      "\n",
      "List: A collection of items in a particular order.\n",
      "\n",
      "Loop: Work through a collection of items, one at a time.\n",
      "\n",
      "Dictionary: A collection of key-value pairs.\n"
     ]
    }
   ],
   "source": [
    "glossary = {\n",
    "    'string': 'A series of characters.',\n",
    "    'comment': 'A note in a program that the Python interpreter ignores.',\n",
    "    'list': 'A collection of items in a particular order.',\n",
    "    'loop': 'Work through a collection of items, one at a time.',\n",
    "    'dictionary': \"A collection of key-value pairs.\",\n",
    "    }\n",
    "\n",
    "word = 'string'\n",
    "print(\"\\n\" + word.title() + \": \" + glossary[word])\n",
    "\n",
    "word = 'comment'\n",
    "print(\"\\n\" + word.title() + \": \" + glossary[word])\n",
    "\n",
    "word = 'list'\n",
    "print(\"\\n\" + word.title() + \": \" + glossary[word])\n",
    "\n",
    "word = 'loop'\n",
    "print(\"\\n\" + word.title() + \": \" + glossary[word])\n",
    "\n",
    "word = 'dictionary'\n",
    "print(\"\\n\" + word.title() + \": \" + glossary[word])"
   ]
  },
  {
   "cell_type": "markdown",
   "metadata": {},
   "source": [
    "**Looping Through a Dictionary"
   ]
  },
  {
   "cell_type": "markdown",
   "metadata": {},
   "source": [
    "**Looping Through All Key-Value Pairs"
   ]
  },
  {
   "cell_type": "code",
   "execution_count": 24,
   "metadata": {},
   "outputs": [
    {
     "name": "stdout",
     "output_type": "stream",
     "text": [
      "\n",
      "Key: username\n",
      "Value: efermi\n",
      "\n",
      "Key: first\n",
      "Value: enrico\n",
      "\n",
      "Key: last\n",
      "Value: fermi\n"
     ]
    }
   ],
   "source": [
    "user_0 = {\n",
    "'username': 'efermi',\n",
    "'first': 'enrico',\n",
    "'last': 'fermi',\n",
    "}\n",
    "\n",
    "for key, value in user_0.items():\n",
    "    print(f\"\\nKey: {key}\")\n",
    "    print(f\"Value: {value}\")"
   ]
  },
  {
   "cell_type": "markdown",
   "metadata": {},
   "source": [
    "**items() > returns a list of keyvalue pairs"
   ]
  },
  {
   "cell_type": "code",
   "execution_count": 25,
   "metadata": {},
   "outputs": [
    {
     "name": "stdout",
     "output_type": "stream",
     "text": [
      "Jen's favorite language is Python.\n",
      "Sarah's favorite language is C.\n",
      "Edward's favorite language is Ruby.\n",
      "Phil's favorite language is Python.\n"
     ]
    }
   ],
   "source": [
    "favorite_languages = {\n",
    "'jen': 'python',\n",
    "'sarah': 'c',\n",
    "'edward': 'ruby',\n",
    "'phil': 'python',\n",
    "}\n",
    "\n",
    "for name, language in favorite_languages.items():\n",
    "    print(f\"{name.title()}'s favorite language is {language.title()}.\")"
   ]
  },
  {
   "cell_type": "code",
   "execution_count": 26,
   "metadata": {},
   "outputs": [
    {
     "name": "stdout",
     "output_type": "stream",
     "text": [
      "Jen\n",
      "Sarah\n",
      "Edward\n",
      "Phil\n"
     ]
    }
   ],
   "source": [
    "favorite_languages = {\n",
    "'jen': 'python',\n",
    "'sarah': 'c',\n",
    "'edward': 'ruby',\n",
    "'phil': 'python',\n",
    "}\n",
    "for name in favorite_languages.keys():\n",
    "    print(name.title())"
   ]
  },
  {
   "cell_type": "code",
   "execution_count": 27,
   "metadata": {},
   "outputs": [
    {
     "name": "stdout",
     "output_type": "stream",
     "text": [
      "Jen\n",
      "Sarah\n",
      "Edward\n",
      "Phil\n"
     ]
    }
   ],
   "source": [
    "favorite_languages = {\n",
    "'jen': 'python',\n",
    "'sarah': 'c',\n",
    "'edward': 'ruby',\n",
    "'phil': 'python',\n",
    "}\n",
    "for name in favorite_languages:\n",
    "    print(name.title())"
   ]
  },
  {
   "cell_type": "code",
   "execution_count": 32,
   "metadata": {},
   "outputs": [
    {
     "name": "stdout",
     "output_type": "stream",
     "text": [
      "Hi Jen.\n",
      "Hi Sarah.\n",
      "\tSarah, I see you love C!\n",
      "Hi Edward.\n",
      "Hi Phil.\n",
      "\tPhil, I see you love Python!\n"
     ]
    }
   ],
   "source": [
    "favorite_languages = {\n",
    "'jen': 'python',\n",
    "'sarah': 'c',\n",
    "'edward': 'ruby',\n",
    "'phil': 'python',\n",
    "}\n",
    "\n",
    "friends = ['phil', 'sarah']\n",
    "for name in favorite_languages.keys():\n",
    "    print(f\"Hi {name.title()}.\")\n",
    "    \n",
    "    if name in friends:\n",
    "        language = favorite_languages[name].title()\n",
    "        print(f\"\\t{name.title()}, I see you love {language}!\")"
   ]
  },
  {
   "cell_type": "code",
   "execution_count": 33,
   "metadata": {},
   "outputs": [
    {
     "name": "stdout",
     "output_type": "stream",
     "text": [
      "Erin, please take our poll!\n"
     ]
    }
   ],
   "source": [
    "favorite_languages = {\n",
    "'jen': 'python',\n",
    "'sarah': 'c',\n",
    "'edward': 'ruby',\n",
    "'phil': 'python',\n",
    "}\n",
    "\n",
    "if 'erin' not in favorite_languages.keys():\n",
    "    print(\"Erin, please take our poll!\")"
   ]
  },
  {
   "cell_type": "markdown",
   "metadata": {},
   "source": [
    "**Looping Through a Dictionary’s Keys in a Particular Order"
   ]
  },
  {
   "cell_type": "code",
   "execution_count": 35,
   "metadata": {},
   "outputs": [
    {
     "name": "stdout",
     "output_type": "stream",
     "text": [
      "Edward, thank you for taking the poll.\n",
      "Jen, thank you for taking the poll.\n",
      "Phil, thank you for taking the poll.\n",
      "Sarah, thank you for taking the poll.\n"
     ]
    }
   ],
   "source": [
    "favorite_languages = {\n",
    "'jen': 'python',\n",
    "'sarah': 'c',\n",
    "'edward': 'ruby',\n",
    "'phil': 'python',\n",
    "}\n",
    "\n",
    "for name in sorted(favorite_languages.keys()):\n",
    "    print(f\"{name.title()}, thank you for taking the poll.\")"
   ]
  },
  {
   "cell_type": "markdown",
   "metadata": {},
   "source": [
    "**Looping Through All Values in a Dictionary"
   ]
  },
  {
   "cell_type": "code",
   "execution_count": 38,
   "metadata": {},
   "outputs": [
    {
     "name": "stdout",
     "output_type": "stream",
     "text": [
      "The following languages have been mentioned:\n",
      "Python\n",
      "C\n",
      "Ruby\n",
      "Python\n"
     ]
    }
   ],
   "source": [
    "favorite_languages = {\n",
    "'jen': 'python',\n",
    "'sarah': 'c',\n",
    "'edward': 'ruby',\n",
    "'phil': 'python',\n",
    "}\n",
    "\n",
    "print(\"The following languages have been mentioned:\")\n",
    "\n",
    "for language in favorite_languages.values():\n",
    "    print(language.title())"
   ]
  },
  {
   "cell_type": "code",
   "execution_count": 41,
   "metadata": {},
   "outputs": [
    {
     "name": "stdout",
     "output_type": "stream",
     "text": [
      "The following languages have been mentioned:\n",
      "Ruby\n",
      "C\n",
      "Python\n"
     ]
    }
   ],
   "source": [
    "favorite_languages = {\n",
    "'jen': 'python',\n",
    "'sarah': 'c',\n",
    "'edward': 'ruby',\n",
    "'phil': 'python',\n",
    "}\n",
    "\n",
    "print(\"The following languages have been mentioned:\")\n",
    "\n",
    "#set() to pull out the unique languages in favorite_languages.values()\n",
    "for language in set(favorite_languages.values()):\n",
    "    print(language.title())"
   ]
  },
  {
   "cell_type": "markdown",
   "metadata": {},
   "source": [
    "**TRY IT YOURSELF"
   ]
  },
  {
   "cell_type": "markdown",
   "metadata": {},
   "source": [
    "**6-4. Glossary 2: Now that you know how to loop through a dictionary, clean up the\n",
    "code from Exercise 6-3 (page 99) by replacing your series of print() calls with a loop\n",
    "that runs through the dictionary’s keys and values. When you’re sure that your loop\n",
    "works, add five more Python terms to your glossary. When you run your program again,\n",
    "these new words and meanings should automatically be included in the output."
   ]
  },
  {
   "cell_type": "code",
   "execution_count": 42,
   "metadata": {},
   "outputs": [
    {
     "name": "stdout",
     "output_type": "stream",
     "text": [
      "\n",
      "String: A series of characters.\n",
      "\n",
      "Comment: A note in a program that the Python interpreter ignores.\n",
      "\n",
      "List: A collection of items in a particular order.\n",
      "\n",
      "Loop: Work through a collection of items, one at a time.\n",
      "\n",
      "Dictionary: A collection of key-value pairs.\n",
      "\n",
      "Key: The first item in a key-value pair in a dictionary.\n",
      "\n",
      "Value: An item associated with a key in a dictionary.\n",
      "\n",
      "Conditional Test: A comparison between two values.\n",
      "\n",
      "Float: A numerical value with a decimal component.\n",
      "\n",
      "Boolean Expression: An expression that evaluates to True or False.\n"
     ]
    }
   ],
   "source": [
    "glossary = {\n",
    "    'string': 'A series of characters.',\n",
    "    'comment': 'A note in a program that the Python interpreter ignores.',\n",
    "    'list': 'A collection of items in a particular order.',\n",
    "    'loop': 'Work through a collection of items, one at a time.',\n",
    "    'dictionary': \"A collection of key-value pairs.\",\n",
    "    'key': 'The first item in a key-value pair in a dictionary.',\n",
    "    'value': 'An item associated with a key in a dictionary.',\n",
    "    'conditional test': 'A comparison between two values.',\n",
    "    'float': 'A numerical value with a decimal component.',\n",
    "    'boolean expression': 'An expression that evaluates to True or False.',\n",
    "    }\n",
    "\n",
    "#items() > returns a list of keyvalue pairs\n",
    "for word, definition in glossary.items():\n",
    "    print(\"\\n\" + word.title() + \": \" + definition)"
   ]
  },
  {
   "cell_type": "markdown",
   "metadata": {},
   "source": [
    "**6-5. Rivers: Make a dictionary containing three major rivers and the country each river\n",
    "runs through. One key-value pair might be 'nile': 'egypt'.\n",
    "Use a loop to print a sentence about each river, such as The\n",
    "Nile runs through Egypt.\n",
    "Use a loop to print the name of each river included in the\n",
    "dictionary.\n",
    "Use a loop to print the name of each country included in the\n",
    "dictionary."
   ]
  },
  {
   "cell_type": "code",
   "execution_count": 43,
   "metadata": {},
   "outputs": [
    {
     "name": "stdout",
     "output_type": "stream",
     "text": [
      "The Nile flows through Egypt.\n",
      "The Mississippi flows through United States.\n",
      "The Fraser flows through Canada.\n",
      "The Kuskokwim flows through Alaska.\n",
      "The Yangtze flows through China.\n",
      "\n",
      "The following rivers are included in this data set:\n",
      "- Nile\n",
      "- Mississippi\n",
      "- Fraser\n",
      "- Kuskokwim\n",
      "- Yangtze\n",
      "\n",
      "The following countries are included in this data set:\n",
      "- Egypt\n",
      "- United States\n",
      "- Canada\n",
      "- Alaska\n",
      "- China\n"
     ]
    }
   ],
   "source": [
    "rivers = {\n",
    "    'nile': 'egypt',\n",
    "    'mississippi': 'united states',\n",
    "    'fraser': 'canada',\n",
    "    'kuskokwim': 'alaska',\n",
    "    'yangtze': 'china',\n",
    "    }\n",
    "\n",
    "#Use a loop to print a sentence about each river, such as The Nile runs through Egypt.\n",
    "for river, country in rivers.items():\n",
    "    print(\"The \" + river.title() + \" flows through \" + country.title() + \".\")\n",
    "\n",
    "#Use a loop to print the name of each river included in the dictionary.\n",
    "print(\"\\nThe following rivers are included in this data set:\")\n",
    "for river in rivers.keys():\n",
    "    print(\"- \" + river.title())\n",
    "\n",
    "#Use a loop to print the name of each country included in the dictionary.\n",
    "print(\"\\nThe following countries are included in this data set:\")\n",
    "for country in rivers.values():\n",
    "    print(\"- \" + country.title())"
   ]
  },
  {
   "cell_type": "markdown",
   "metadata": {},
   "source": [
    "**6-6. Polling: Use the code in favorite_languages.py (page 97).\n",
    "Make a list of people who should take the favorite languages\n",
    "poll. Include some names that are already in the dictionary\n",
    "and some that are not.\n",
    "Loop through the list of people who should take the poll. If\n",
    "they have already taken the poll, print a message thanking\n",
    "them for responding. If they have not yet taken the poll, print\n",
    "a message inviting them to take the poll."
   ]
  },
  {
   "cell_type": "code",
   "execution_count": 44,
   "metadata": {},
   "outputs": [
    {
     "name": "stdout",
     "output_type": "stream",
     "text": [
      "Jen's favorite language is Python.\n",
      "Sarah's favorite language is C.\n",
      "Edward's favorite language is Ruby.\n",
      "Phil's favorite language is Python.\n",
      "\n",
      "\n",
      "Thank you for taking the poll, Phil!\n",
      "Josh, what's your favorite programming language?\n",
      "David, what's your favorite programming language?\n",
      "Becca, what's your favorite programming language?\n",
      "Thank you for taking the poll, Sarah!\n",
      "Matt, what's your favorite programming language?\n",
      "Danielle, what's your favorite programming language?\n"
     ]
    }
   ],
   "source": [
    "favorite_languages = {\n",
    "    'jen': 'python',\n",
    "    'sarah': 'c',\n",
    "    'edward': 'ruby',\n",
    "    'phil': 'python',\n",
    "    }\n",
    "\n",
    "for name, language in favorite_languages.items():\n",
    "    print(name.title() + \"'s favorite language is \" + language.title() + \".\")\n",
    "\n",
    "print(\"\\n\")\n",
    "\n",
    "coders = ['phil', 'josh', 'david', 'becca', 'sarah', 'matt', 'danielle']\n",
    "for coder in coders:\n",
    "    if coder in favorite_languages.keys():\n",
    "        print(\"Thank you for taking the poll, \" + coder.title() + \"!\")\n",
    "    else:\n",
    "        print(coder.title() + \", what's your favorite programming language?\")"
   ]
  },
  {
   "cell_type": "markdown",
   "metadata": {},
   "source": [
    "**Nesting"
   ]
  },
  {
   "cell_type": "markdown",
   "metadata": {},
   "source": [
    "**A List of Dictionaries"
   ]
  },
  {
   "cell_type": "code",
   "execution_count": 1,
   "metadata": {},
   "outputs": [
    {
     "name": "stdout",
     "output_type": "stream",
     "text": [
      "{'color': 'green', 'points': 5}\n",
      "{'color': 'yellow', 'points': 10}\n",
      "{'color': 'red', 'points': 15}\n"
     ]
    }
   ],
   "source": [
    "alien_0 = {'color': 'green', 'points': 5}\n",
    "alien_1 = {'color': 'yellow', 'points': 10}\n",
    "alien_2 = {'color': 'red', 'points': 15}\n",
    "aliens = [alien_0, alien_1, alien_2]\n",
    "\n",
    "for alien in aliens:\n",
    "    print(alien)"
   ]
  },
  {
   "cell_type": "code",
   "execution_count": 3,
   "metadata": {},
   "outputs": [
    {
     "name": "stdout",
     "output_type": "stream",
     "text": [
      "{'color': 'green', 'points': 5, 'speed': 'slow'}\n",
      "...\n",
      "{'color': 'green', 'points': 5, 'speed': 'slow'}\n",
      "...\n",
      "{'color': 'green', 'points': 5, 'speed': 'slow'}\n",
      "...\n",
      "{'color': 'green', 'points': 5, 'speed': 'slow'}\n",
      "...\n",
      "{'color': 'green', 'points': 5, 'speed': 'slow'}\n",
      "...\n",
      "Total number of aliens: 30\n"
     ]
    }
   ],
   "source": [
    "# Make an empty list for storing aliens.\n",
    "aliens = []\n",
    "\n",
    "# Make 30 green aliens.\n",
    "for alien_number in range(30):\n",
    "    new_alien = {'color': 'green', 'points': 5, 'speed': 'slow'}\n",
    "    aliens.append(new_alien)\n",
    "\n",
    "# Show the first 5 aliens.\n",
    "for alien in aliens[:5]:\n",
    "    print(alien)\n",
    "    print(\"...\")\n",
    "\n",
    "# Show how many aliens have been created.\n",
    "print(f\"Total number of aliens: {len(aliens)}\")"
   ]
  },
  {
   "cell_type": "code",
   "execution_count": 5,
   "metadata": {},
   "outputs": [
    {
     "name": "stdout",
     "output_type": "stream",
     "text": [
      "{'color': 'yellow', 'points': 10, 'speed': 'medium'}\n",
      "...\n",
      "{'color': 'yellow', 'points': 10, 'speed': 'medium'}\n",
      "...\n",
      "{'color': 'yellow', 'points': 10, 'speed': 'medium'}\n",
      "...\n",
      "{'color': 'green', 'points': 5, 'speed': 'slow'}\n",
      "...\n",
      "{'color': 'green', 'points': 5, 'speed': 'slow'}\n",
      "...\n"
     ]
    }
   ],
   "source": [
    "# Make an empty list for storing aliens.\n",
    "aliens = []\n",
    "\n",
    "# Make 30 green aliens.\n",
    "for alien_number in range (30):\n",
    "    new_alien = {'color': 'green', 'points': 5, 'speed': 'slow'}\n",
    "    aliens.append(new_alien)\n",
    "\n",
    "#change the first three aliens to yellow, medium-speed aliens worth 10 points each,\n",
    "for alien in aliens[:3]:\n",
    "    if alien['color'] == 'green':\n",
    "        alien['color'] = 'yellow'\n",
    "        alien['speed'] = 'medium'\n",
    "        alien['points'] = 10\n",
    "\n",
    "# Show the first 5 aliens.\n",
    "for alien in aliens[:5]:\n",
    "    print(alien)\n",
    "    print(\"...\")"
   ]
  },
  {
   "cell_type": "code",
   "execution_count": 7,
   "metadata": {},
   "outputs": [
    {
     "name": "stdout",
     "output_type": "stream",
     "text": [
      "{'color': 'yellow', 'points': 10, 'speed': 'medium'}\n",
      "...\n",
      "{'color': 'yellow', 'points': 10, 'speed': 'medium'}\n",
      "...\n",
      "{'color': 'yellow', 'points': 10, 'speed': 'medium'}\n",
      "...\n",
      "{'color': 'green', 'points': 5, 'speed': 'slow'}\n",
      "...\n",
      "{'color': 'green', 'points': 5, 'speed': 'slow'}\n",
      "...\n"
     ]
    }
   ],
   "source": [
    "# Make an empty list for storing aliens.\n",
    "aliens = []\n",
    "\n",
    "# Make 30 green aliens.\n",
    "for alien_number in range (30):\n",
    "    new_alien = {'color': 'green', 'points': 5, 'speed': 'slow'}\n",
    "    aliens.append(new_alien)\n",
    "\n",
    "#change the first three aliens to yellow, medium-speed aliens worth 10 points each,\n",
    "for alien in aliens[0:3]:\n",
    "    if alien['color'] == 'green':\n",
    "        alien['color'] = 'yellow'\n",
    "        alien['speed'] = 'medium'\n",
    "        alien['points'] = 10\n",
    "    #adding an elif block that turns yellow aliens into red, fast-moving ones worth 15 points each.\n",
    "    elif alien['color'] == 'yellow':\n",
    "        alien['color'] = 'red'\n",
    "        alien['speed'] = 'fast'\n",
    "        alien['points'] = 15\n",
    "\n",
    "# Show the first 5 aliens.\n",
    "for alien in aliens[:5]:\n",
    "    print(alien)\n",
    "    print(\"...\")"
   ]
  },
  {
   "cell_type": "markdown",
   "metadata": {},
   "source": [
    "**A List in a Dictionary"
   ]
  },
  {
   "cell_type": "code",
   "execution_count": 10,
   "metadata": {},
   "outputs": [
    {
     "name": "stdout",
     "output_type": "stream",
     "text": [
      "You ordered a thick-crust pizza with the following toppings:\n",
      "\tmushrooms\n",
      "\textra cheese\n"
     ]
    }
   ],
   "source": [
    "# Store information about a pizza being ordered.\n",
    "pizza = {\n",
    "'crust': 'thick',\n",
    "'toppings': ['mushrooms', 'extra cheese'],\n",
    "}\n",
    "\n",
    "# Summarize the order.\n",
    "print(f\"You ordered a {pizza['crust']}-crust pizza \"\n",
    "\"with the following toppings:\")\n",
    "\n",
    "#add a tab to your text, use the character combination \\t\n",
    "for topping in pizza['toppings']:\n",
    "    print(f\"\\t{topping}\")"
   ]
  },
  {
   "cell_type": "code",
   "execution_count": 11,
   "metadata": {},
   "outputs": [
    {
     "name": "stdout",
     "output_type": "stream",
     "text": [
      "\n",
      "Jen's favorite languages are:\n",
      "\tPython\n",
      "\tRuby\n",
      "\n",
      "Sarah's favorite languages are:\n",
      "\tC\n",
      "\n",
      "Edward's favorite languages are:\n",
      "\tRuby\n",
      "\tGo\n",
      "\n",
      "Phil's favorite languages are:\n",
      "\tPython\n",
      "\tHaskell\n"
     ]
    }
   ],
   "source": [
    "#the value associated with each name is now a list\n",
    "favorite_languages = {\n",
    "'jen': ['python', 'ruby'],\n",
    "'sarah': ['c'],\n",
    "'edward': ['ruby', 'go'],\n",
    "'phil': ['python', 'haskell'],\n",
    "}\n",
    "\n",
    "for name, languages in favorite_languages.items():\n",
    "    print(f\"\\n{name.title()}'s favorite languages are:\")\n",
    "\n",
    "    for language in languages:\n",
    "        print(f\"\\t{language.title()}\")"
   ]
  },
  {
   "cell_type": "markdown",
   "metadata": {},
   "source": [
    "**A Dictionary in a Dictionary"
   ]
  },
  {
   "cell_type": "code",
   "execution_count": 14,
   "metadata": {},
   "outputs": [
    {
     "name": "stdout",
     "output_type": "stream",
     "text": [
      "{'aeinstein': {'first': 'albert', 'last': 'einstein', 'location': 'princeton'}, 'mcurie': {'first': 'marie', 'last': 'curie', 'location': 'paris'}}\n"
     ]
    }
   ],
   "source": [
    "users = {\n",
    "'aeinstein': {\n",
    "'first': 'albert',\n",
    "'last': 'einstein',\n",
    "'location': 'princeton',\n",
    "},\n",
    "'mcurie': {\n",
    "'first': 'marie',\n",
    "'last': 'curie',\n",
    "'location': 'paris',\n",
    "},\n",
    "}\n",
    "print(users)"
   ]
  },
  {
   "cell_type": "code",
   "execution_count": 16,
   "metadata": {},
   "outputs": [
    {
     "name": "stdout",
     "output_type": "stream",
     "text": [
      "\n",
      "Username: aeinstein\n",
      "\tFull name: Albert Einstein\n",
      "\tLocation: Princeton\n",
      "\n",
      "Username: mcurie\n",
      "\tFull name: Marie Curie\n",
      "\tLocation: Paris\n"
     ]
    }
   ],
   "source": [
    "users = {\n",
    "'aeinstein': {\n",
    "'first': 'albert',\n",
    "'last': 'einstein',\n",
    "'location': 'princeton',\n",
    "},\n",
    "'mcurie': {\n",
    "'first': 'marie',\n",
    "'last': 'curie',\n",
    "'location': 'paris',\n",
    "},\n",
    "}\n",
    "\n",
    "for username, user_info in users.items():\n",
    "    print(f\"\\nUsername: {username}\")\n",
    "    full_name = f\"{user_info['first']} {user_info['last']}\"\n",
    "    location = user_info['location']\n",
    "    \n",
    "    print(f\"\\tFull name: {full_name.title()}\")\n",
    "    print(f\"\\tLocation: {location.title()}\")"
   ]
  },
  {
   "cell_type": "markdown",
   "metadata": {},
   "source": [
    "**TRY IT YOURSELF"
   ]
  },
  {
   "cell_type": "markdown",
   "metadata": {},
   "source": [
    "**6-7. People: Start with the program you wrote for Exercise 6-1 (page 99). Make two\n",
    "new dictionaries representing different people, and store all three dictionaries in a list\n",
    "called people. Loop through your list of people. As you loop through the list, print\n",
    "everything you know about each person."
   ]
  },
  {
   "cell_type": "code",
   "execution_count": 1,
   "metadata": {},
   "outputs": [
    {
     "name": "stdout",
     "output_type": "stream",
     "text": [
      "{'first_name': 'Jeff', 'last_name': 'Richer', 'age': 25, 'city': 'Bettysville'}\n",
      "{'first_name': 'William', 'last_name': 'Martin', 'age': 29, 'city': 'Talmo'}\n",
      "{'first_name': 'Taylor', 'last_name': 'Martin', 'age': 27, 'city': 'Jefferson'}\n"
     ]
    }
   ],
   "source": [
    "person_0 = {\n",
    "    'first_name': 'Jeff',\n",
    "    'last_name': 'Richer',\n",
    "    'age': 25,\n",
    "    'city': 'Bettysville'\n",
    "    }\n",
    "\n",
    "person_1 = {\n",
    "    'first_name': 'William',\n",
    "    'last_name': 'Martin',\n",
    "    'age': 29,\n",
    "    'city': 'Talmo'\n",
    "    }\n",
    "\n",
    "person_2 = {\n",
    "    'first_name': 'Taylor',\n",
    "    'last_name': 'Martin',\n",
    "    'age': 27,\n",
    "    'city': 'Jefferson'\n",
    "    }\n",
    "\n",
    "people = [person_0, person_1, person_2]\n",
    "\n",
    "for person in people:\n",
    "    print(person)"
   ]
  },
  {
   "cell_type": "markdown",
   "metadata": {},
   "source": [
    "**6-8. Pets: Make several dictionaries, where each dictionary represents a different pet. In\n",
    "each dictionary, include the kind of animal and the owner’s name. Store these\n",
    "dictionaries in a list called pets. Next, loop through your list and as you do, print\n",
    "everything you know about each pet."
   ]
  },
  {
   "cell_type": "code",
   "execution_count": 2,
   "metadata": {},
   "outputs": [
    {
     "name": "stdout",
     "output_type": "stream",
     "text": [
      "{'species': 'dog', 'colour': 'black', 'owner': 'Taylor'}\n",
      "{'species': 'cat', 'colour': 'white', 'owner': 'Love'}\n",
      "{'species': 'fish', 'colour': 'grey', 'owner': 'Smith'}\n"
     ]
    }
   ],
   "source": [
    "pet_0 = {\n",
    "    'species':'dog',\n",
    "    'colour':'black',\n",
    "    'owner':\"Taylor\",\n",
    "    }\n",
    "\n",
    "pet_1 = {\n",
    "    'species':'cat',\n",
    "    'colour':'white',\n",
    "    'owner':\"Love\",\n",
    "    }\n",
    "\n",
    "pet_2 = {\n",
    "    'species':'fish',\n",
    "    'colour':'grey',\n",
    "    'owner':\"Smith\",\n",
    "    }\n",
    "\n",
    "pets = [pet_0, pet_1, pet_2]\n",
    "\n",
    "for pet in pets:\n",
    "    print(pet)"
   ]
  },
  {
   "cell_type": "code",
   "execution_count": 3,
   "metadata": {},
   "outputs": [
    {
     "name": "stdout",
     "output_type": "stream",
     "text": [
      "\n",
      "Here's what I know about John:\n",
      "\tanimal type: python\n",
      "\tname: john\n",
      "\towner: guido\n",
      "\tweight: 43\n",
      "\teats: bugs\n",
      "\n",
      "Here's what I know about Clarence:\n",
      "\tanimal type: chicken\n",
      "\tname: clarence\n",
      "\towner: tiffany\n",
      "\tweight: 2\n",
      "\teats: seeds\n",
      "\n",
      "Here's what I know about Peso:\n",
      "\tanimal type: dog\n",
      "\tname: peso\n",
      "\towner: eric\n",
      "\tweight: 37\n",
      "\teats: shoes\n"
     ]
    }
   ],
   "source": [
    "# Make an empty list to store the pets in.\n",
    "pets = []\n",
    "\n",
    "# Make individual pets, and store each one in the list.\n",
    "pet = {\n",
    "    'animal type': 'python',\n",
    "    'name': 'john',\n",
    "    'owner': 'guido',\n",
    "    'weight': 43,\n",
    "    'eats': 'bugs',\n",
    "}\n",
    "pets.append(pet)\n",
    "\n",
    "pet = {\n",
    "    'animal type': 'chicken',\n",
    "    'name': 'clarence',\n",
    "    'owner': 'tiffany',\n",
    "    'weight': 2,\n",
    "    'eats': 'seeds',\n",
    "}\n",
    "pets.append(pet)\n",
    "\n",
    "pet = {\n",
    "    'animal type': 'dog',\n",
    "    'name': 'peso',\n",
    "    'owner': 'eric',\n",
    "    'weight': 37,\n",
    "    'eats': 'shoes',\n",
    "}\n",
    "pets.append(pet)\n",
    "\n",
    "# Display information about each pet.\n",
    "for pet in pets:\n",
    "    print(\"\\nHere's what I know about \" + pet['name'].title() + \":\")\n",
    "    for key, value in pet.items():\n",
    "        print(\"\\t\" + key + \": \" + str(value))"
   ]
  },
  {
   "cell_type": "markdown",
   "metadata": {},
   "source": [
    "**6-9. Favorite Places: Make a dictionary called favorite_places. Think of three names\n",
    "to use as keys in the dictionary, and store one to three favorite places for each person. To\n",
    "make this exercise a bit more interesting, ask some friends to name a few of their\n",
    "favorite places. Loop through the dictionary, and print each person’s name and their\n",
    "favorite places."
   ]
  },
  {
   "cell_type": "code",
   "execution_count": 4,
   "metadata": {},
   "outputs": [
    {
     "name": "stdout",
     "output_type": "stream",
     "text": [
      "William likes the following places:\n",
      "\t- Lake\n",
      "\t- Maldives\n",
      "\t- Talmo\n",
      "\n",
      "\n",
      "Smith likes the following places:\n",
      "\t- Talmo\n",
      "\t- Mexico\n",
      "\t- Bahamas\n",
      "\n",
      "\n",
      "Taylor likes the following places:\n",
      "\t- Home\n",
      "\t- Nanas\n",
      "\t- Grams\n",
      "\n",
      "\n"
     ]
    }
   ],
   "source": [
    "favorite_places = {\n",
    "    'william':['lake', 'maldives', 'talmo'],\n",
    "    'smith':['talmo', 'mexico', 'bahamas'],\n",
    "    'taylor':['home', 'nanas', 'grams'],\n",
    "}\n",
    "\n",
    "for name, places in favorite_places.items():\n",
    "    print(name.title()+\" likes the following places:\")\n",
    "    for place in places:\n",
    "        print(\"\\t\" + \"- \" + place.title())\n",
    "    print(\"\\n\")"
   ]
  },
  {
   "cell_type": "markdown",
   "metadata": {},
   "source": [
    "**6-10. Favorite Numbers: Modify your program from Exercise 6-2 (page 99) so each\n",
    "person can have more than one favorite number. Then print each person’s name along\n",
    "with their favorite numbers."
   ]
  },
  {
   "cell_type": "code",
   "execution_count": 5,
   "metadata": {},
   "outputs": [
    {
     "name": "stdout",
     "output_type": "stream",
     "text": [
      "Mandy favourite number is:\n",
      "\t42\n",
      "\t17\n",
      "Micah favourite number is:\n",
      "\t42\n",
      "\t39\n",
      "\t56\n",
      "Gus favourite number is:\n",
      "\t7\n",
      "\t12\n"
     ]
    }
   ],
   "source": [
    "favorite_numbers = {\n",
    "    'mandy': [42, 17],\n",
    "    'micah': [42, 39, 56],\n",
    "    'gus': [7, 12],\n",
    "    }\n",
    "\n",
    "for name, numbers in favorite_numbers.items():\n",
    "    print(name.title() + \" favourite number is:\")\n",
    "    for number in numbers:\n",
    "        print(\"\\t\" + str(number))"
   ]
  },
  {
   "cell_type": "markdown",
   "metadata": {},
   "source": [
    "**6-11. Cities: Make a dictionary called cities. Use the names of three cities as keys in\n",
    "your dictionary. Create a dictionary of information about each city and include the\n",
    "country that the city is in, its approximate population, and one fact about that city. The\n",
    "keys for each city’s dictionary should be something like country, population, and\n",
    "fact. Print the name of each city and all of the information you have stored about it."
   ]
  },
  {
   "cell_type": "code",
   "execution_count": 6,
   "metadata": {},
   "outputs": [
    {
     "name": "stdout",
     "output_type": "stream",
     "text": [
      "santiago:\n",
      "\tcountry:chile\n",
      "\tpopulation:6158080\n",
      "\tnearby mountains:andes\n",
      "talkeetna:\n",
      "\tcountry:alaska\n",
      "\tpopulation:876\n",
      "\tnearby mountains:alaska range\n",
      "kathmandu:\n",
      "\tcountry:nepal\n",
      "\tpopulation:1003285\n",
      "\tnearby mountains:himilaya\n"
     ]
    }
   ],
   "source": [
    "cities = {\n",
    "    'santiago': {\n",
    "        'country': 'chile',\n",
    "        'population': 6158080,\n",
    "        'nearby mountains': 'andes',\n",
    "        },\n",
    "    'talkeetna': {\n",
    "        'country': 'alaska',\n",
    "        'population': 876,\n",
    "        'nearby mountains': 'alaska range',\n",
    "        },\n",
    "    'kathmandu': {\n",
    "        'country': 'nepal',\n",
    "        'population': 1003285,\n",
    "        'nearby mountains': 'himilaya',\n",
    "        }\n",
    "    }\n",
    "\n",
    "# Print the name of each city and all of the information you have stored about it.\n",
    "for city, info in cities.items():\n",
    "    print(city + \":\")\n",
    "    for k, v in info.items():\n",
    "        print(\"\\t\" + k + \":\" + str(v))"
   ]
  },
  {
   "cell_type": "code",
   "execution_count": 7,
   "metadata": {},
   "outputs": [
    {
     "name": "stdout",
     "output_type": "stream",
     "text": [
      "\n",
      "Santiago is in Chile.\n",
      "It has a population of about 6158080.\n",
      "The Andes mountains are nearby.\n",
      "\n",
      "Talkeetna is in Alaska.\n",
      "It has a population of about 876.\n",
      "The Alaska Range mountains are nearby.\n",
      "\n",
      "Kathmandu is in Nepal.\n",
      "It has a population of about 1003285.\n",
      "The Himilaya mountains are nearby.\n"
     ]
    }
   ],
   "source": [
    "cities = {\n",
    "    'santiago': {\n",
    "        'country': 'chile',\n",
    "        'population': 6158080,\n",
    "        'nearby mountains': 'andes',\n",
    "        },\n",
    "    'talkeetna': {\n",
    "        'country': 'alaska',\n",
    "        'population': 876,\n",
    "        'nearby mountains': 'alaska range',\n",
    "        },\n",
    "    'kathmandu': {\n",
    "        'country': 'nepal',\n",
    "        'population': 1003285,\n",
    "        'nearby mountains': 'himilaya',\n",
    "        }\n",
    "    }\n",
    "\n",
    "# Print the name of each city and all of the information you have stored about it.\n",
    "for city, city_info in cities.items():\n",
    "    country = city_info['country'].title()\n",
    "    population = city_info['population']\n",
    "    mountains = city_info['nearby mountains'].title()\n",
    "\n",
    "    print(\"\\n\" + city.title() + \" is in \" + country + \".\")\n",
    "    print(\"It has a population of about \" + str(population) + \".\")\n",
    "    print(\"The \" + mountains + \" mountains are nearby.\")"
   ]
  },
  {
   "cell_type": "markdown",
   "metadata": {},
   "source": [
    "**6-12. Extensions: We’re now working with examples that are complex enough that they\n",
    "can be extended in any number of ways. Use one of the example programs from this\n",
    "chapter, and extend it by adding new keys and values, changing the context of the\n",
    "program or improving the formatting of the output."
   ]
  },
  {
   "cell_type": "code",
   "execution_count": null,
   "metadata": {},
   "outputs": [],
   "source": []
  }
 ],
 "metadata": {
  "kernelspec": {
   "display_name": "Python 3",
   "language": "python",
   "name": "python3"
  },
  "language_info": {
   "codemirror_mode": {
    "name": "ipython",
    "version": 3
   },
   "file_extension": ".py",
   "mimetype": "text/x-python",
   "name": "python",
   "nbconvert_exporter": "python",
   "pygments_lexer": "ipython3",
   "version": "3.8.5"
  }
 },
 "nbformat": 4,
 "nbformat_minor": 2
}
