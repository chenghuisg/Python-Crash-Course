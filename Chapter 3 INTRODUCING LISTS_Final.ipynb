{
 "cells": [
  {
   "cell_type": "markdown",
   "metadata": {},
   "source": [
    "**Python Crash Course Chapter 3 INTRODUCING LISTS**"
   ]
  },
  {
   "cell_type": "markdown",
   "metadata": {},
   "source": [
    "**square brackets [ ] indicate a list, and individual elements in the list are separated by commas**"
   ]
  },
  {
   "cell_type": "code",
   "execution_count": 1,
   "metadata": {},
   "outputs": [
    {
     "name": "stdout",
     "output_type": "stream",
     "text": [
      "['trek', 'cannondale', 'redline', 'specialized']\n"
     ]
    }
   ],
   "source": [
    "bicycles = ['trek', 'cannondale', 'redline', 'specialized']\n",
    "print(bicycles)"
   ]
  },
  {
   "cell_type": "markdown",
   "metadata": {},
   "source": [
    "**Accessing Elements in a List**"
   ]
  },
  {
   "cell_type": "markdown",
   "metadata": {},
   "source": [
    "**Method 1 - Lists are ordered collections, so you can access any element in a list by\n",
    "telling Python the position, or index, of the item desired.**"
   ]
  },
  {
   "cell_type": "markdown",
   "metadata": {},
   "source": [
    "**Index Positions Start at 0, Not 1**"
   ]
  },
  {
   "cell_type": "code",
   "execution_count": 2,
   "metadata": {},
   "outputs": [
    {
     "name": "stdout",
     "output_type": "stream",
     "text": [
      "trek\n"
     ]
    }
   ],
   "source": [
    "bicycles = ['trek', 'cannondale', 'redline', 'specialized']\n",
    "print(bicycles[0])"
   ]
  },
  {
   "cell_type": "markdown",
   "metadata": {},
   "source": [
    "**Method 2 - string method**"
   ]
  },
  {
   "cell_type": "code",
   "execution_count": 3,
   "metadata": {},
   "outputs": [
    {
     "name": "stdout",
     "output_type": "stream",
     "text": [
      "trek\n"
     ]
    }
   ],
   "source": [
    "bicycles = ['trek', 'cannondale', 'redline', 'specialized']\n",
    "print(bicycles[0])"
   ]
  },
  {
   "cell_type": "code",
   "execution_count": 4,
   "metadata": {},
   "outputs": [
    {
     "name": "stdout",
     "output_type": "stream",
     "text": [
      "Trek\n"
     ]
    }
   ],
   "source": [
    "print(bicycles[0].title())"
   ]
  },
  {
   "cell_type": "code",
   "execution_count": 5,
   "metadata": {},
   "outputs": [
    {
     "name": "stdout",
     "output_type": "stream",
     "text": [
      "cannondale\n",
      "specialized\n"
     ]
    }
   ],
   "source": [
    "bicycles = ['trek', 'cannondale', 'redline', 'specialized']\n",
    "print(bicycles[1])\n",
    "print(bicycles[3])"
   ]
  },
  {
   "cell_type": "markdown",
   "metadata": {},
   "source": [
    "**By asking for the item at index -1, Python always returns the last item in\n",
    "the list**"
   ]
  },
  {
   "cell_type": "code",
   "execution_count": 6,
   "metadata": {},
   "outputs": [
    {
     "name": "stdout",
     "output_type": "stream",
     "text": [
      "specialized\n"
     ]
    }
   ],
   "source": [
    "bicycles = ['trek', 'cannondale', 'redline', 'specialized']\n",
    "print(bicycles[-1])"
   ]
  },
  {
   "cell_type": "code",
   "execution_count": 7,
   "metadata": {},
   "outputs": [
    {
     "name": "stdout",
     "output_type": "stream",
     "text": [
      "Specialized\n"
     ]
    }
   ],
   "source": [
    "bicycles = ['trek', 'cannondale', 'redline', 'specialized']\n",
    "print(bicycles[-1].title())"
   ]
  },
  {
   "cell_type": "code",
   "execution_count": 8,
   "metadata": {},
   "outputs": [
    {
     "name": "stdout",
     "output_type": "stream",
     "text": [
      "redline\n",
      "cannondale\n",
      "trek\n"
     ]
    }
   ],
   "source": [
    "bicycles = ['trek', 'cannondale', 'redline', 'specialized']\n",
    "print(bicycles[-2])\n",
    "print(bicycles[-3])\n",
    "print(bicycles[-4])"
   ]
  },
  {
   "cell_type": "markdown",
   "metadata": {},
   "source": [
    "**Using Individual Values from a List**"
   ]
  },
  {
   "cell_type": "markdown",
   "metadata": {},
   "source": [
    "**use f-strings to create a message based on a value from a list**"
   ]
  },
  {
   "cell_type": "code",
   "execution_count": 9,
   "metadata": {},
   "outputs": [
    {
     "name": "stdout",
     "output_type": "stream",
     "text": [
      "My first bicycle was a Trek.\n"
     ]
    }
   ],
   "source": [
    "bicycles = ['trek', 'cannondale', 'redline', 'specialized']\n",
    "message = f\"My first bicycle was a {bicycles[0].title()}.\"\n",
    "print(message)"
   ]
  },
  {
   "cell_type": "markdown",
   "metadata": {},
   "source": [
    "**TRY IT YOURSELF**"
   ]
  },
  {
   "cell_type": "markdown",
   "metadata": {},
   "source": [
    "**3-1. Names: Store the names of a few of your friends in a list called names. Print each\n",
    "person’s name by accessing each element in the list, one at a time.**"
   ]
  },
  {
   "cell_type": "code",
   "execution_count": 10,
   "metadata": {},
   "outputs": [
    {
     "name": "stdout",
     "output_type": "stream",
     "text": [
      "ab\n",
      "cd\n",
      "ef\n",
      "gh\n"
     ]
    }
   ],
   "source": [
    "names = ['ab', 'cd', 'ef', 'gh']\n",
    "print(names[0])\n",
    "print(names[1])\n",
    "print(names[2])\n",
    "print(names[3])"
   ]
  },
  {
   "cell_type": "code",
   "execution_count": 11,
   "metadata": {},
   "outputs": [
    {
     "name": "stdout",
     "output_type": "stream",
     "text": [
      "gh\n",
      "ef\n",
      "cd\n",
      "ab\n"
     ]
    }
   ],
   "source": [
    "names = ['ab', 'cd', 'ef', 'gh']\n",
    "print(names[-1])\n",
    "print(names[-2])\n",
    "print(names[-3])\n",
    "print(names[-4])"
   ]
  },
  {
   "cell_type": "markdown",
   "metadata": {},
   "source": [
    "**3-2. Greetings: Start with the list you used in Exercise 3-1, but instead of just printing\n",
    "each person’s name, print a message to them. The text of each message should be the\n",
    "same, but each message should be personalized with the person’s name**"
   ]
  },
  {
   "cell_type": "code",
   "execution_count": 12,
   "metadata": {},
   "outputs": [
    {
     "name": "stdout",
     "output_type": "stream",
     "text": [
      "My best friend was Ab.\n",
      "My best friend was Cd.\n",
      "My best friend was Ef.\n",
      "My best friend was Gh.\n"
     ]
    }
   ],
   "source": [
    "names = ['ab', 'cd', 'ef', 'gh']\n",
    "\n",
    "message = f\"My best friend was {names[0].title()}.\"\n",
    "print(message)\n",
    "\n",
    "message = f\"My best friend was {names[1].title()}.\"\n",
    "print(message)\n",
    "\n",
    "message = f\"My best friend was {names[2].title()}.\"\n",
    "print(message)\n",
    "\n",
    "message = f\"My best friend was {names[3].title()}.\"\n",
    "print(message)"
   ]
  },
  {
   "cell_type": "markdown",
   "metadata": {},
   "source": [
    "**3-3. Your Own List: Think of your favorite mode of transportation, such as a\n",
    "motorcycle or a car, and make a list that stores several examples. Use your list to print a\n",
    "series of statements about these items, such as “I would like to own a Honda\n",
    "motorcycle.”**"
   ]
  },
  {
   "cell_type": "code",
   "execution_count": 13,
   "metadata": {},
   "outputs": [
    {
     "name": "stdout",
     "output_type": "stream",
     "text": [
      "I would like to own a Van.\n",
      "I would like to own a scooter.\n",
      "I would like to own a bike.\n",
      "I would like to own a car.\n"
     ]
    }
   ],
   "source": [
    "transport = ['car', 'bike', 'scooter', 'van']\n",
    "message = f\"I would like to own a {transport[-1].title()}.\"\n",
    "print(message)\n",
    "\n",
    "message = f\"I would like to own a {transport[-2]}.\"\n",
    "print(message)\n",
    "\n",
    "message = f\"I would like to own a {transport[-3]}.\"\n",
    "print(message)\n",
    "\n",
    "message = f\"I would like to own a {transport[-4]}.\"\n",
    "print(message)"
   ]
  },
  {
   "cell_type": "markdown",
   "metadata": {},
   "source": [
    "**Changing, Adding, and Removing Elements**"
   ]
  },
  {
   "cell_type": "markdown",
   "metadata": {},
   "source": [
    "**#Modify**\n",
    "\n",
    "**list[0] = 'new_element' > replace old element in the position with new element**\n",
    "\n",
    "**#Adding**\n",
    "\n",
    "**list.append('new_element')    > add a new elelment to end of list**\n",
    "\n",
    "**list.insert(0, 'new_element') > add a new elelment at any position in your list**\n",
    "\n",
    "**#Removing**\n",
    "\n",
    "**del list[0]                    >  delete an element from any position in a list and not use that element in any way**\n",
    "\n",
    "**newlist = existinglist.pop()   > removes the last element in a list, but it lets you work with that element after removing it**\n",
    "\n",
    "**newlist = existinglist.pop(0)  > remove an element from any position in a list and let you work with that element after removing it**\n",
    "\n",
    "**list.remove('element_name')     > won’t know the position of the value you want to remove from a list, but know the value of the item you want to remove**"
   ]
  },
  {
   "cell_type": "markdown",
   "metadata": {},
   "source": [
    "**Modifying Elements in a List**"
   ]
  },
  {
   "cell_type": "code",
   "execution_count": 14,
   "metadata": {},
   "outputs": [
    {
     "name": "stdout",
     "output_type": "stream",
     "text": [
      "['honda', 'yamaha', 'suzuki']\n",
      "['ducati', 'yamaha', 'suzuki']\n",
      "['ducati', 'yamaha', 'ducati']\n"
     ]
    }
   ],
   "source": [
    "# Modify honda to ducati\n",
    "motorcycles = ['honda', 'yamaha', 'suzuki']\n",
    "print(motorcycles)\n",
    "\n",
    "motorcycles[0] = 'ducati'\n",
    "print(motorcycles)\n",
    "\n",
    "motorcycles[2] = 'ducati'\n",
    "print(motorcycles)"
   ]
  },
  {
   "cell_type": "markdown",
   "metadata": {},
   "source": [
    "**Adding Elements to a List**"
   ]
  },
  {
   "cell_type": "markdown",
   "metadata": {},
   "source": [
    "**Appending Elements to the End of a List**"
   ]
  },
  {
   "cell_type": "code",
   "execution_count": 15,
   "metadata": {},
   "outputs": [
    {
     "name": "stdout",
     "output_type": "stream",
     "text": [
      "['honda', 'yamaha', 'suzuki']\n",
      "['honda', 'yamaha', 'suzuki', 'ducati']\n"
     ]
    }
   ],
   "source": [
    "motorcycles = ['honda', 'yamaha', 'suzuki']\n",
    "print(motorcycles)\n",
    "\n",
    "motorcycles.append('ducati')\n",
    "print(motorcycles)"
   ]
  },
  {
   "cell_type": "code",
   "execution_count": 16,
   "metadata": {},
   "outputs": [
    {
     "name": "stdout",
     "output_type": "stream",
     "text": [
      "['honda', 'yamaha', 'suzuki']\n"
     ]
    }
   ],
   "source": [
    "#start with an empty list and then add items to the list using a series of append() calls.\n",
    "motorcycles = []\n",
    "motorcycles.append('honda')\n",
    "motorcycles.append('yamaha')\n",
    "motorcycles.append('suzuki')\n",
    "print(motorcycles)"
   ]
  },
  {
   "cell_type": "markdown",
   "metadata": {},
   "source": [
    "**Inserting Elements into a List**"
   ]
  },
  {
   "cell_type": "code",
   "execution_count": 17,
   "metadata": {},
   "outputs": [
    {
     "name": "stdout",
     "output_type": "stream",
     "text": [
      "['ducati', 'honda', 'yamaha', 'suzuki']\n"
     ]
    }
   ],
   "source": [
    "motorcycles = ['honda', 'yamaha', 'suzuki']\n",
    "motorcycles.insert(0, 'ducati')\n",
    "print(motorcycles)"
   ]
  },
  {
   "cell_type": "markdown",
   "metadata": {},
   "source": [
    "**Removing Elements from a List**"
   ]
  },
  {
   "cell_type": "markdown",
   "metadata": {},
   "source": [
    "**If you’re unsure whether to use the del statement or the pop()\n",
    "method, here’s a simple way to decide: when you want to delete an item\n",
    "from a list and not use that item in any way, use the del statement; if you\n",
    "want to use an item as you remove it, use the pop() method.**"
   ]
  },
  {
   "cell_type": "markdown",
   "metadata": {},
   "source": [
    "**Removing an Item Using the del Statement**"
   ]
  },
  {
   "cell_type": "code",
   "execution_count": 18,
   "metadata": {},
   "outputs": [
    {
     "name": "stdout",
     "output_type": "stream",
     "text": [
      "['honda', 'yamaha', 'suzuki']\n",
      "['yamaha', 'suzuki']\n"
     ]
    }
   ],
   "source": [
    "motorcycles = ['honda', 'yamaha', 'suzuki']\n",
    "print(motorcycles)\n",
    "\n",
    "del motorcycles[0]\n",
    "print(motorcycles)"
   ]
  },
  {
   "cell_type": "code",
   "execution_count": 19,
   "metadata": {},
   "outputs": [
    {
     "name": "stdout",
     "output_type": "stream",
     "text": [
      "['honda', 'yamaha', 'suzuki']\n",
      "['honda', 'suzuki']\n"
     ]
    }
   ],
   "source": [
    "motorcycles = ['honda', 'yamaha', 'suzuki']\n",
    "print(motorcycles)\n",
    "\n",
    "del motorcycles[1]\n",
    "print(motorcycles)"
   ]
  },
  {
   "cell_type": "markdown",
   "metadata": {},
   "source": [
    "**Removing an Item Using the pop() Method**"
   ]
  },
  {
   "cell_type": "code",
   "execution_count": 20,
   "metadata": {},
   "outputs": [
    {
     "name": "stdout",
     "output_type": "stream",
     "text": [
      "['honda', 'yamaha', 'suzuki']\n",
      "['honda', 'yamaha']\n",
      "suzuki\n"
     ]
    }
   ],
   "source": [
    "motorcycles = ['honda', 'yamaha', 'suzuki']\n",
    "print(motorcycles)\n",
    "\n",
    "popped_motorcycle = motorcycles.pop()\n",
    "print(motorcycles)\n",
    "print(popped_motorcycle)"
   ]
  },
  {
   "cell_type": "code",
   "execution_count": 21,
   "metadata": {},
   "outputs": [
    {
     "name": "stdout",
     "output_type": "stream",
     "text": [
      "The last motorcycle I owned was a Suzuki.\n"
     ]
    }
   ],
   "source": [
    "motorcycles = ['honda', 'yamaha', 'suzuki']\n",
    "last_owned = motorcycles.pop()\n",
    "print(f\"The last motorcycle I owned was a {last_owned.title()}.\")"
   ]
  },
  {
   "cell_type": "markdown",
   "metadata": {},
   "source": [
    "**Popping Items from any Position in a List**"
   ]
  },
  {
   "cell_type": "code",
   "execution_count": 22,
   "metadata": {},
   "outputs": [
    {
     "name": "stdout",
     "output_type": "stream",
     "text": [
      "The first motorcycle I owned was a Honda.\n"
     ]
    }
   ],
   "source": [
    "motorcycles = ['honda', 'yamaha', 'suzuki']\n",
    "first_owned = motorcycles.pop(0)\n",
    "print(f\"The first motorcycle I owned was a {first_owned.title()}.\")"
   ]
  },
  {
   "cell_type": "markdown",
   "metadata": {},
   "source": [
    "**Removing an Item by Value**"
   ]
  },
  {
   "cell_type": "markdown",
   "metadata": {},
   "source": [
    "The remove() method deletes only the first occurrence of the value you specify.\n",
    "If there’s a possibility the value appears more than once in the list, you’ll\n",
    "need to use a loop to make sure all occurrences of the value are removed."
   ]
  },
  {
   "cell_type": "code",
   "execution_count": 23,
   "metadata": {},
   "outputs": [
    {
     "name": "stdout",
     "output_type": "stream",
     "text": [
      "['honda', 'yamaha', 'suzuki', 'ducati']\n",
      "['honda', 'yamaha', 'suzuki']\n"
     ]
    }
   ],
   "source": [
    "motorcycles = ['honda', 'yamaha', 'suzuki', 'ducati']\n",
    "print(motorcycles)\n",
    "\n",
    "motorcycles.remove('ducati')\n",
    "print(motorcycles)"
   ]
  },
  {
   "cell_type": "code",
   "execution_count": 24,
   "metadata": {},
   "outputs": [
    {
     "name": "stdout",
     "output_type": "stream",
     "text": [
      "['honda', 'yamaha', 'suzuki', 'ducati']\n",
      "['honda', 'yamaha', 'suzuki']\n",
      "\n",
      "A Ducati is too expensive for me.\n"
     ]
    }
   ],
   "source": [
    "motorcycles = ['honda', 'yamaha', 'suzuki', 'ducati']\n",
    "print(motorcycles)\n",
    "\n",
    "too_expensive = 'ducati'\n",
    "motorcycles.remove(too_expensive)\n",
    "print(motorcycles)\n",
    "\n",
    "print(f\"\\nA {too_expensive.title()} is too expensive for me.\")"
   ]
  },
  {
   "cell_type": "markdown",
   "metadata": {},
   "source": [
    "**TRY IT YOURSELF**"
   ]
  },
  {
   "cell_type": "markdown",
   "metadata": {},
   "source": [
    "**3-4. Guest List: If you could invite anyone, living or deceased, to dinner, who would\n",
    "you invite? Make a list that includes at least three people you’d like to invite to dinner.\n",
    "Then use your list to print a message to each person, inviting them to dinner.**"
   ]
  },
  {
   "cell_type": "code",
   "execution_count": 25,
   "metadata": {},
   "outputs": [
    {
     "name": "stdout",
     "output_type": "stream",
     "text": [
      "Angeline, please come to dinner.\n",
      "Beebee, please come to dinner.\n",
      "Charlotte, please come to dinner.\n"
     ]
    }
   ],
   "source": [
    "guests = ['angeline', 'beeBee', 'charlotte']\n",
    "\n",
    "name = guests[0].title()\n",
    "print(name + \", please come to dinner.\")\n",
    "\n",
    "name = guests[1].title()\n",
    "print(name + \", please come to dinner.\")\n",
    "\n",
    "name = guests[2].title()\n",
    "print(name + \", please come to dinner.\")"
   ]
  },
  {
   "cell_type": "markdown",
   "metadata": {},
   "source": [
    "**3-5. Changing Guest List: You just heard that one of your guests can’t make the dinner,\n",
    "so you need to send out a new set of invitations. You’ll have to think of someone else to\n",
    "invite.\n",
    "Start with your program from Exercise 3-4. Add a print() call\n",
    "at the end of your program stating the name of the guest who\n",
    "can’t make it.\n",
    "Modify your list, replacing the name of the guest who can’t\n",
    "make it with the name of the new person you are inviting.\n",
    "Print a second set of invitation messages, one for each person\n",
    "who is still in your list.**"
   ]
  },
  {
   "cell_type": "code",
   "execution_count": 26,
   "metadata": {},
   "outputs": [
    {
     "name": "stdout",
     "output_type": "stream",
     "text": [
      "Angeline, please come to dinner.\n",
      "Beebee, please come to dinner.\n",
      "Charlotte, please come to dinner.\n",
      "\n",
      "Angeline, cant make it for dinner.\n",
      "['angeline', 'beeBee', 'charlotte']\n",
      "['dunch', 'beeBee', 'charlotte']\n",
      "\n",
      "Dunch, please come to dinner.\n",
      "Beebee, please come to dinner.\n",
      "Charlotte, please come to dinner.\n"
     ]
    }
   ],
   "source": [
    "#Exercise 3-4\n",
    "\n",
    "guests = ['angeline', 'beeBee', 'charlotte']\n",
    "\n",
    "name = guests[0].title()\n",
    "print(name + \", please come to dinner.\")\n",
    "\n",
    "name = guests[1].title()\n",
    "print(name + \", please come to dinner.\")\n",
    "\n",
    "name = guests[2].title()\n",
    "print(name + \", please come to dinner.\")\n",
    "\n",
    "#Add a print() call at the end of your program stating the name of the guest (angeline) who can’t make it. \n",
    "\n",
    "name = guests[0].title()\n",
    "print(\"\\n\"+ name + \", cant make it for dinner.\")\n",
    "\n",
    "#Modify your list, replacing the name of the guest who can’t make it (angeline) with the name of the new person (dunch) you are inviting.\n",
    "\n",
    "print(guests)\n",
    "del guests[0]\n",
    "guests.insert(0, 'dunch')\n",
    "print(guests)\n",
    "\n",
    "#Print a second set of invitation messages\n",
    "\n",
    "name = guests[0].title()\n",
    "print(\"\\n\" + name + \", please come to dinner.\")\n",
    "\n",
    "name = guests[1].title()\n",
    "print(name + \", please come to dinner.\")\n",
    "\n",
    "name = guests[2].title()\n",
    "print(name + \", please come to dinner.\")"
   ]
  },
  {
   "cell_type": "markdown",
   "metadata": {},
   "source": [
    "**3-6. More Guests: You just found a bigger dinner table, so now more space is available.\n",
    "Think of three more guests to invite to dinner.\n",
    "Start with your program from Exercise 3-4 or Exercise 3-5.\n",
    "Add a print() call to the end of your program informing\n",
    "people that you found a bigger dinner table.\n",
    "Use insert() to add one new guest to the beginning of your\n",
    "list.\n",
    "Use insert() to add one new guest to the middle of your list.\n",
    "Use append() to add one new guest to the end of your list.\n",
    "Print a new set of invitation messages, one for each person in\n",
    "your list.**"
   ]
  },
  {
   "cell_type": "code",
   "execution_count": 27,
   "metadata": {},
   "outputs": [
    {
     "name": "stdout",
     "output_type": "stream",
     "text": [
      "Angeline, i found a bigger dinner table.\n",
      "Beebee, i found a bigger dinner table.\n",
      "Charlotte, i found a bigger dinner table.\n",
      "\n",
      "Dunch, please come for dinner.\n",
      "Angeline, please come for dinner.\n",
      "Evan, please come for dinner.\n",
      "Beebee, please come for dinner.\n",
      "Charlotte, please come for dinner.\n",
      "Farid, please come for dinner.\n",
      "['dunch', 'angeline', 'evan', 'beeBee', 'charlotte', 'farid']\n"
     ]
    }
   ],
   "source": [
    "#Start with your program from Exercise 3-4 \n",
    "\n",
    "guests = ['angeline', 'beeBee', 'charlotte']\n",
    "\n",
    "#Add a print() call to the end of your program informing people that you found a bigger dinner table.\n",
    "\n",
    "name = guests[0].title()\n",
    "print(name + \", i found a bigger dinner table.\")\n",
    "\n",
    "name = guests[1].title()\n",
    "print(name + \", i found a bigger dinner table.\")\n",
    "\n",
    "name = guests[2].title()\n",
    "print(name + \", i found a bigger dinner table.\")\n",
    "\n",
    "#Use insert() to add one new guest to the beginning of your list. Use insert() to add one new guest to the middle of your list. Use append() to add one new guest to the end of your list.\n",
    "\n",
    "guests.insert(0, 'dunch')\n",
    "guests.insert(2, 'evan')\n",
    "guests.append('farid')\n",
    "\n",
    "#Print a new set of invitation messages, one for each person in your list.\n",
    "name = guests[0].title()\n",
    "print(\"\\n\" + name + \", please come for dinner.\")\n",
    "\n",
    "name = guests[1].title()\n",
    "print(name + \", please come for dinner.\")\n",
    "\n",
    "name = guests[2].title()\n",
    "print(name + \", please come for dinner.\")\n",
    "\n",
    "name = guests[3].title()\n",
    "print(name + \", please come for dinner.\")\n",
    "\n",
    "name = guests[4].title()\n",
    "print(name + \", please come for dinner.\")\n",
    "\n",
    "name = guests[5].title()\n",
    "print(name + \", please come for dinner.\")\n",
    "\n",
    "print(guests)"
   ]
  },
  {
   "cell_type": "markdown",
   "metadata": {},
   "source": [
    "**3-7. Shrinking Guest List: You just found out that your new dinner table won’t arrive in\n",
    "time for the dinner, and you have space for only two guests.\n",
    "Start with your program from Exercise 3-6. Add a new line\n",
    "that prints a message saying that you can invite only two\n",
    "people for dinner.\n",
    "Use pop() to remove guests from your list one at a time until\n",
    "only two names remain in your list. Each time you pop a\n",
    "name from your list, print a message to that person letting\n",
    "them know you’re sorry you can’t invite them to dinner.\n",
    "Print a message to each of the two people still on your list,\n",
    "letting them know they’re still invited.\n",
    "Use del to remove the last two names from your list, so you\n",
    "have an empty list. Print your list to make sure you actually\n",
    "have an empty list at the end of your program.**"
   ]
  },
  {
   "cell_type": "code",
   "execution_count": 28,
   "metadata": {},
   "outputs": [
    {
     "name": "stdout",
     "output_type": "stream",
     "text": [
      "Dunch, i can only invite only two people for dinner.\n",
      "Angeline, i can only invite only two people for dinner.\n",
      "Evan, i can only invite only two people for dinner.\n",
      "Beebee, i can only invite only two people for dinner.\n",
      "Charlotte, i can only invite only two people for dinner.\n",
      "Farid, i can only invite only two people for dinner.\n",
      "\n",
      "farid, I'm sorry you can’t invite you.\n",
      "charlotte, I'm sorry you can’t invite you.\n",
      "beeBee, I'm sorry you can’t invite you.\n",
      "evan, I'm sorry you can’t invite you.\n",
      "['dunch', 'angeline']\n",
      "evan\n",
      "\n",
      "Dunch, please come for dinner.\n",
      "Angeline, please come for dinner.\n",
      "[]\n"
     ]
    }
   ],
   "source": [
    "#Start with your program from Exercise 3-6.\n",
    "\n",
    "guests = ['dunch', 'angeline', 'evan', 'beeBee', 'charlotte', 'farid']\n",
    "\n",
    "#Add a new line that prints a message saying that you can invite only two people for dinner. \n",
    "\n",
    "name = guests[0].title()\n",
    "print(name + \", i can only invite only two people for dinner.\")\n",
    "\n",
    "name = guests[1].title()\n",
    "print(name + \", i can only invite only two people for dinner.\")\n",
    "\n",
    "name = guests[2].title()\n",
    "print(name + \", i can only invite only two people for dinner.\")\n",
    "\n",
    "name = guests[3].title()\n",
    "print(name + \", i can only invite only two people for dinner.\")\n",
    "\n",
    "name = guests[4].title()\n",
    "print(name + \", i can only invite only two people for dinner.\")\n",
    "\n",
    "name = guests[5].title()\n",
    "print(name + \", i can only invite only two people for dinner.\")\n",
    "\n",
    "#Use pop() to remove guests from your list one at a time until only two names remain in your list.\n",
    "#Each time you pop a name from your list, print a message to that person letting them know you’re sorry you can’t invite them to dinner. \n",
    "\n",
    "popped_guests = guests.pop()\n",
    "print(\"\\n\" + popped_guests + \", I'm sorry you can’t invite you.\")\n",
    "\n",
    "popped_guests = guests.pop()\n",
    "print(popped_guests + \", I'm sorry you can’t invite you.\")\n",
    "\n",
    "popped_guests = guests.pop()\n",
    "print(popped_guests + \", I'm sorry you can’t invite you.\")\n",
    "\n",
    "popped_guests = guests.pop()\n",
    "print(popped_guests + \", I'm sorry you can’t invite you.\")\n",
    "\n",
    "print(guests)\n",
    "print(popped_guests)\n",
    "\n",
    "#Print a message to each of the two people still on your list, letting them know they’re still invited. \n",
    "\n",
    "name = guests[0].title()\n",
    "print(\"\\n\" + name + \", please come for dinner.\")\n",
    "\n",
    "name = guests[1].title()\n",
    "print(name + \", please come for dinner.\")\n",
    "\n",
    "#Use del to remove the last two names from your list, so you have an empty list. Print your list to make sure you actually have an empty list at the end of your program.\n",
    "\n",
    "del guests[0]\n",
    "del guests[0]\n",
    "print(guests)"
   ]
  },
  {
   "cell_type": "markdown",
   "metadata": {},
   "source": [
    "**Organizing a List**"
   ]
  },
  {
   "cell_type": "markdown",
   "metadata": {},
   "source": [
    "**list.sort() > Sort a List alphabetically permanently**"
   ]
  },
  {
   "cell_type": "code",
   "execution_count": 29,
   "metadata": {},
   "outputs": [
    {
     "name": "stdout",
     "output_type": "stream",
     "text": [
      "['audi', 'bmw', 'subaru', 'toyota']\n"
     ]
    }
   ],
   "source": [
    "cars = ['bmw', 'audi', 'toyota', 'subaru']\n",
    "cars.sort()\n",
    "print(cars)"
   ]
  },
  {
   "cell_type": "code",
   "execution_count": 30,
   "metadata": {},
   "outputs": [
    {
     "name": "stdout",
     "output_type": "stream",
     "text": [
      "['toyota', 'subaru', 'bmw', 'audi']\n"
     ]
    }
   ],
   "source": [
    "cars = ['bmw', 'audi', 'toyota', 'subaru']\n",
    "cars.sort(reverse=True)\n",
    "print(cars)"
   ]
  },
  {
   "cell_type": "markdown",
   "metadata": {},
   "source": [
    "**print(sorted(list)) > Sort a List Temporarily**"
   ]
  },
  {
   "cell_type": "code",
   "execution_count": 31,
   "metadata": {},
   "outputs": [
    {
     "name": "stdout",
     "output_type": "stream",
     "text": [
      "Here is the original list:\n",
      "['bmw', 'audi', 'toyota', 'subaru']\n",
      "\n",
      "Here is the sorted list:\n",
      "['audi', 'bmw', 'subaru', 'toyota']\n",
      "\n",
      "Here is the original list again:\n",
      "['bmw', 'audi', 'toyota', 'subaru']\n"
     ]
    }
   ],
   "source": [
    "cars = ['bmw', 'audi', 'toyota', 'subaru']\n",
    "\n",
    "print(\"Here is the original list:\")\n",
    "print(cars)\n",
    "\n",
    "print(\"\\nHere is the sorted list:\")\n",
    "print(sorted(cars))\n",
    "\n",
    "print(\"\\nHere is the original list again:\")\n",
    "print(cars)\n"
   ]
  },
  {
   "cell_type": "markdown",
   "metadata": {},
   "source": [
    "**list.reverse() > Printing a List in Reverse Order**"
   ]
  },
  {
   "cell_type": "markdown",
   "metadata": {},
   "source": [
    "**reverse() method changes the order of a list permanently, but\n",
    "you can revert to the original order anytime by applying reverse() to\n",
    "the same list a second time.**"
   ]
  },
  {
   "cell_type": "code",
   "execution_count": 33,
   "metadata": {},
   "outputs": [
    {
     "name": "stdout",
     "output_type": "stream",
     "text": [
      "['bmw', 'audi', 'toyota', 'subaru']\n",
      "['subaru', 'toyota', 'audi', 'bmw']\n"
     ]
    }
   ],
   "source": [
    "cars = ['bmw', 'audi', 'toyota', 'subaru']\n",
    "print(cars)\n",
    "\n",
    "cars.reverse()\n",
    "print(cars)"
   ]
  },
  {
   "cell_type": "markdown",
   "metadata": {},
   "source": [
    "**Finding the Length of a List**"
   ]
  },
  {
   "cell_type": "code",
   "execution_count": 34,
   "metadata": {},
   "outputs": [
    {
     "data": {
      "text/plain": [
       "4"
      ]
     },
     "execution_count": 34,
     "metadata": {},
     "output_type": "execute_result"
    }
   ],
   "source": [
    "cars = ['bmw', 'audi', 'toyota', 'subaru']\n",
    "len(cars)"
   ]
  },
  {
   "cell_type": "markdown",
   "metadata": {},
   "source": [
    "**TRY IT YOURSELF**"
   ]
  },
  {
   "cell_type": "markdown",
   "metadata": {},
   "source": [
    "**3-8. Seeing the World: Think of at least five places in the world you’d like to visit.\n",
    "Store the locations in a list. Make sure the list is not in\n",
    "alphabetical order.\n",
    "Print your list in its original order. Don’t worry about\n",
    "printing the list neatly, just print it as a raw Python list.\n",
    "Use sorted() to print your list in alphabetical order without\n",
    "modifying the actual list.\n",
    "Show that your list is still in its original order by printing it.\n",
    "Use sorted() to print your list in reverse alphabetical order\n",
    "without changing the order of the original list.\n",
    "Show that your list is still in its original order by printing it\n",
    "again.\n",
    "Use reverse() to change the order of your list. Print the list to\n",
    "show that its order has changed.\n",
    "Use reverse() to change the order of your list again. Print the\n",
    "list to show it’s back to its original order.\n",
    "Use sort() to change your list so it’s stored in alphabetical\n",
    "order. Print the list to show that its order has been changed.\n",
    "Use sort() to change your list so it’s stored in reverse\n",
    "alphabetical order. Print the list to show that its order has\n",
    "changed**"
   ]
  },
  {
   "cell_type": "code",
   "execution_count": 35,
   "metadata": {},
   "outputs": [
    {
     "name": "stdout",
     "output_type": "stream",
     "text": [
      "['Korea', 'Malaysia', 'Taiwan', 'Bangkok']\n",
      "Here is the sorted list:\n",
      "['Bangkok', 'Korea', 'Malaysia', 'Taiwan']\n",
      "Here is the original list:\n",
      "['Korea', 'Malaysia', 'Taiwan', 'Bangkok']\n",
      "['Taiwan', 'Malaysia', 'Korea', 'Bangkok']\n",
      "['Bangkok', 'Korea', 'Malaysia', 'Taiwan']\n",
      "['Taiwan', 'Malaysia', 'Korea', 'Bangkok']\n",
      "['Bangkok', 'Korea', 'Malaysia', 'Taiwan']\n",
      "['Taiwan', 'Malaysia', 'Korea', 'Bangkok']\n"
     ]
    }
   ],
   "source": [
    "#Store the locations in a list. Make sure the list is not in alphabetical order. Print your list in its original order. \n",
    "\n",
    "countries = ['Korea', 'Malaysia', 'Taiwan', 'Bangkok']\n",
    "print(countries)\n",
    "\n",
    "#Use sorted() to print your list in alphabetical order without modifying the actual list.Show that your list is still in its original order by printing it.\n",
    "#Temp\n",
    "\n",
    "print(\"Here is the sorted list:\")\n",
    "print(sorted(countries))\n",
    "\n",
    "print(\"Here is the original list:\")\n",
    "print(countries)\n",
    "\n",
    "#Use sorted() to print your list in reverse alphabetical order without changing the order of the original list.Show that your list is still in its original order by printing it again.\n",
    "#TEmp\n",
    "\n",
    "countries.sort(reverse=True)\n",
    "print(countries)\n",
    "\n",
    "#Use reverse() to change the order of your list. Print the list to show that its order has changed.\n",
    "\n",
    "countries.reverse()\n",
    "print(countries)\n",
    "\n",
    "#Use reverse() to change the order of your list again. Print the list to show it’s back to its original order.\n",
    "\n",
    "countries.reverse()\n",
    "print(countries)\n",
    "\n",
    "#Use sort() to change your list so it’s stored in alphabetical order. Print the list to show that its order has been changed.\n",
    "\n",
    "countries.sort()\n",
    "print(countries)\n",
    "\n",
    "#Use sort() to change your list so it’s stored in reverse alphabetical order. Print the list to show that its order has changed*\n",
    "\n",
    "countries.sort(reverse=True)\n",
    "print(countries)"
   ]
  },
  {
   "cell_type": "markdown",
   "metadata": {},
   "source": [
    "**3-9. Dinner Guests: Working with one of the programs from Exercises 3-4 through 3-\n",
    "7 (page 42), use len() to print a message indicating the number of people you are\n",
    "inviting to dinner.**"
   ]
  },
  {
   "cell_type": "code",
   "execution_count": 36,
   "metadata": {},
   "outputs": [
    {
     "name": "stdout",
     "output_type": "stream",
     "text": [
      "6 people coming for dinner\n"
     ]
    }
   ],
   "source": [
    "#Exercises 3-7\n",
    "\n",
    "guests = ['dunch', 'angeline', 'evan', 'beeBee', 'charlotte', 'farid']\n",
    "number=len(guests)\n",
    "\n",
    "print(\"{} people coming for dinner\".format(number))"
   ]
  },
  {
   "cell_type": "markdown",
   "metadata": {},
   "source": [
    "**3-10. Every Function: Think of something you could store in a list. For example, you\n",
    "could make a list of mountains, rivers, countries, cities, languages, or anything else\n",
    "you’d like. Write a program that creates a list containing these items and then uses each\n",
    "function introduced in this chapter at least once.**"
   ]
  },
  {
   "cell_type": "markdown",
   "metadata": {},
   "source": [
    "**Avoiding Index Errors When Working with Lists**"
   ]
  },
  {
   "cell_type": "code",
   "execution_count": 37,
   "metadata": {},
   "outputs": [
    {
     "ename": "IndexError",
     "evalue": "list index out of range",
     "output_type": "error",
     "traceback": [
      "\u001b[1;31m---------------------------------------------------------------------------\u001b[0m",
      "\u001b[1;31mIndexError\u001b[0m                                Traceback (most recent call last)",
      "\u001b[1;32m<ipython-input-37-9811709cfb18>\u001b[0m in \u001b[0;36m<module>\u001b[1;34m\u001b[0m\n\u001b[0;32m      1\u001b[0m \u001b[0mmotorcycles\u001b[0m \u001b[1;33m=\u001b[0m \u001b[1;33m[\u001b[0m\u001b[1;34m'honda'\u001b[0m\u001b[1;33m,\u001b[0m \u001b[1;34m'yamaha'\u001b[0m\u001b[1;33m,\u001b[0m \u001b[1;34m'suzuki'\u001b[0m\u001b[1;33m]\u001b[0m\u001b[1;33m\u001b[0m\u001b[1;33m\u001b[0m\u001b[0m\n\u001b[1;32m----> 2\u001b[1;33m \u001b[0mprint\u001b[0m\u001b[1;33m(\u001b[0m\u001b[0mmotorcycles\u001b[0m\u001b[1;33m[\u001b[0m\u001b[1;36m3\u001b[0m\u001b[1;33m]\u001b[0m\u001b[1;33m)\u001b[0m\u001b[1;33m\u001b[0m\u001b[1;33m\u001b[0m\u001b[0m\n\u001b[0m",
      "\u001b[1;31mIndexError\u001b[0m: list index out of range"
     ]
    }
   ],
   "source": [
    "motorcycles = ['honda', 'yamaha', 'suzuki']\n",
    "print(motorcycles[3])"
   ]
  },
  {
   "cell_type": "code",
   "execution_count": 38,
   "metadata": {},
   "outputs": [
    {
     "ename": "IndexError",
     "evalue": "list index out of range",
     "output_type": "error",
     "traceback": [
      "\u001b[1;31m---------------------------------------------------------------------------\u001b[0m",
      "\u001b[1;31mIndexError\u001b[0m                                Traceback (most recent call last)",
      "\u001b[1;32m<ipython-input-38-08e14d7d6f1a>\u001b[0m in \u001b[0;36m<module>\u001b[1;34m\u001b[0m\n\u001b[0;32m      1\u001b[0m \u001b[0mmotorcycles\u001b[0m \u001b[1;33m=\u001b[0m \u001b[1;33m[\u001b[0m\u001b[1;33m]\u001b[0m\u001b[1;33m\u001b[0m\u001b[1;33m\u001b[0m\u001b[0m\n\u001b[1;32m----> 2\u001b[1;33m \u001b[0mprint\u001b[0m\u001b[1;33m(\u001b[0m\u001b[0mmotorcycles\u001b[0m\u001b[1;33m[\u001b[0m\u001b[1;33m-\u001b[0m\u001b[1;36m1\u001b[0m\u001b[1;33m]\u001b[0m\u001b[1;33m)\u001b[0m\u001b[1;33m\u001b[0m\u001b[1;33m\u001b[0m\u001b[0m\n\u001b[0m",
      "\u001b[1;31mIndexError\u001b[0m: list index out of range"
     ]
    }
   ],
   "source": [
    "motorcycles = []\n",
    "print(motorcycles[-1])"
   ]
  }
 ],
 "metadata": {
  "kernelspec": {
   "display_name": "Python 3",
   "language": "python",
   "name": "python3"
  },
  "language_info": {
   "codemirror_mode": {
    "name": "ipython",
    "version": 3
   },
   "file_extension": ".py",
   "mimetype": "text/x-python",
   "name": "python",
   "nbconvert_exporter": "python",
   "pygments_lexer": "ipython3",
   "version": "3.8.5"
  }
 },
 "nbformat": 4,
 "nbformat_minor": 2
}
